{
 "cells": [
  {
   "cell_type": "markdown",
   "metadata": {},
   "source": [
    "# Data Acquisition"
   ]
  },
  {
   "cell_type": "markdown",
   "metadata": {},
   "source": [
    "## Pull Down Schedule from GDQ Website"
   ]
  },
  {
   "cell_type": "code",
   "execution_count": 1,
   "metadata": {
    "collapsed": true
   },
   "outputs": [],
   "source": [
    "import requests\n",
    "import json\n",
    "from bs4 import BeautifulSoup\n",
    "from IPython.display import clear_output\n",
    "import pandas as pd\n",
    "import matplotlib.pyplot as plt\n",
    "import plotly.plotly as py\n",
    "import matplotlib.mlab as mlab\n",
    "import numpy as np\n",
    "import seaborn as sns\n",
    "import itertools\n",
    "from __future__ import unicode_literals\n",
    "import matplotlib"
   ]
  },
  {
   "cell_type": "code",
   "execution_count": 2,
   "metadata": {
    "collapsed": false
   },
   "outputs": [],
   "source": [
    "req = requests.get('https://gamesdonequick.com/schedule')\n",
    "soup = BeautifulSoup(req.text)\n",
    "table = soup.find('tbody')\n",
    "\n",
    "first_rows = table.findAll('tr', attrs={'class': None})\n",
    "games = list()\n",
    "for row in first_rows:\n",
    "    second_row = row.findNext('tr', attrs={'class': 'second-row'})\n",
    "    duration = 0\n",
    "    if second_row:\n",
    "        duration = second_row.findNext('td').text.strip()\n",
    "    runner_text = row.find('td', attrs={'rowspan': 2})\n",
    "    runner = runner_text.text.strip() if runner_text else \"\"\n",
    "    game = {\n",
    "        'title': row.find('td', attrs={'class': None}).text,\n",
    "        'duration': duration,\n",
    "        'runner': runner\n",
    "    }\n",
    "    games.append(game)\n",
    "games_df = pd.DataFrame(games)"
   ]
  },
  {
   "cell_type": "markdown",
   "metadata": {},
   "source": [
    "## Remove Blacklisted 'Games' \n",
    "(e.g. Setup Blocks)"
   ]
  },
  {
   "cell_type": "code",
   "execution_count": 3,
   "metadata": {
    "collapsed": false
   },
   "outputs": [],
   "source": [
    "black_list = ['Pre-Show', 'SETUP BLOCK', 'Finale']\n",
    "\n",
    "games_df = games_df[~games_df.title.str.contains('|'.join(black_list))]"
   ]
  },
  {
   "cell_type": "markdown",
   "metadata": {},
   "source": [
    "## Download Game Data\n",
    "Requests user input for ambiguous responses\n",
    "\n",
    "(Takes a long time)"
   ]
  },
  {
   "cell_type": "code",
   "execution_count": null,
   "metadata": {
    "collapsed": false
   },
   "outputs": [],
   "source": [
    "def search_game(name):\n",
    "    base_url = \"http://www.giantbomb.com/api/search/\"\n",
    "    with open('api_keys.json', 'r') as f:\n",
    "        api_key = json.load(f)['giant_bomb']\n",
    "    headers = {'User-agent': 'Python'}\n",
    "    params = {\n",
    "        'api_key': api_key,\n",
    "        'format': 'json',\n",
    "        'query': name.encode('ascii','replace'),\n",
    "        'resources': 'game',\n",
    "        'limit': 10\n",
    "    }\n",
    "    results = requests.get(base_url, headers=headers, params=params).json()\n",
    "    manual_results = []\n",
    "    for i, res in enumerate(results['results']):\n",
    "        if(res['name'] == name):\n",
    "            return res\n",
    "        manual_results.append(\"{0}: {1}\".format(i,res['name'].encode('ascii', 'replace')))\n",
    "    else:\n",
    "        print \"\\n\".join(manual_results)\n",
    "        print \"Title: {0}\".format(name.encode('ascii', 'replace'))\n",
    "        correct = int(input(\"Correct Index: \"))\n",
    "        if correct < 0:\n",
    "            return {}\n",
    "        return results['results'][correct]\n",
    "\n",
    "for i, game in enumerate(games):\n",
    "    if 'data' in game and game['data'] is not None:\n",
    "        continue\n",
    "    print \"\\r({0}/{1}) Searching for: {2}\".format(i + 1, len(games), game.title.encode('ascii', 'ignore'))\n",
    "    game['data'] = search_game(games[i]['title'])\n"
   ]
  },
  {
   "cell_type": "markdown",
   "metadata": {},
   "source": [
    "### Manually Fix Games"
   ]
  },
  {
   "cell_type": "code",
   "execution_count": null,
   "metadata": {
    "collapsed": false,
    "scrolled": true
   },
   "outputs": [],
   "source": [
    "def search_id(game_id):\n",
    "    base_url = \"http://www.giantbomb.com/api\"\n",
    "    api_key = \"1a2b6ca5a6672075fad627af8567197ebc76740f\"\n",
    "    headers = {'User-agent': 'Python'}\n",
    "    # Construct query URL\n",
    "    url = (base_url + \"/game/{1}/?api_key={0}&format=json\".\n",
    "        format(api_key, game_id))\n",
    "    response = requests.get(url, headers=headers).text\n",
    "    try:\n",
    "        results = json.loads(response)\n",
    "    except Exception as e:\n",
    "        print response\n",
    "    return results['results']\n",
    "for game in games:\n",
    "    if game['data'] == {}:\n",
    "        print \"Title: {0}\".format(game['title'].encode('ascii', 'replace'))\n",
    "        game_id = raw_input(\"Game ID: \")\n",
    "        if game_id == \"x\":\n",
    "            continue\n",
    "        game['data'] = search_id(game_id)\n",
    "actual_games = [x for x in games if x['data']]\n"
   ]
  },
  {
   "cell_type": "markdown",
   "metadata": {},
   "source": [
    "### Manually add platform being played during AGDQ"
   ]
  },
  {
   "cell_type": "code",
   "execution_count": null,
   "metadata": {
    "collapsed": false
   },
   "outputs": [],
   "source": [
    "for i, game in enumerate(actual_games):\n",
    "    if \"platform\" in game:\n",
    "        continue\n",
    "    actual_games[i]['platform'] = raw_input(\"({0}/{1}) {2}:\".format(i + 1, len(actual_games), game['title'].encode('ascii', 'replace')))"
   ]
  },
  {
   "cell_type": "markdown",
   "metadata": {},
   "source": [
    "## Dump JSON"
   ]
  },
  {
   "cell_type": "code",
   "execution_count": null,
   "metadata": {
    "collapsed": false
   },
   "outputs": [],
   "source": [
    "with open(\"games_list.txt\", \"w+\") as f:\n",
    "    for game in actual_games:\n",
    "        f.write(json.dumps(game) + \"\\n\")"
   ]
  },
  {
   "cell_type": "markdown",
   "metadata": {},
   "source": [
    "### Load from JSON"
   ]
  },
  {
   "cell_type": "code",
   "execution_count": null,
   "metadata": {
    "collapsed": false
   },
   "outputs": [],
   "source": [
    "actual_games = list()\n",
    "import json\n",
    "with open ('games_list.txt', 'r') as f:\n",
    "    for line in f.read().split('\\n'):\n",
    "        try:\n",
    "            actual_games.append(json.loads(line))\n",
    "        except Exception as e:\n",
    "            print e"
   ]
  },
  {
   "cell_type": "markdown",
   "metadata": {},
   "source": [
    "# Graphs"
   ]
  },
  {
   "cell_type": "markdown",
   "metadata": {},
   "source": [
    "## Games on each platform"
   ]
  },
  {
   "cell_type": "code",
   "execution_count": null,
   "metadata": {
    "collapsed": false
   },
   "outputs": [],
   "source": [
    "matplotlib.use('agg')\n",
    "%matplotlib inline  \n",
    "\n",
    "plt.style.use('fivethirtyeight')\n",
    "\n",
    "plt.rcParams['font.serif'] = 'Ubuntu'\n",
    "plt.rcParams['font.monospace'] = 'Ubuntu Mono'\n",
    "plt.rcParams['font.size'] = 10\n",
    "plt.rcParams['font.weight'] = 'normal'\n",
    "plt.rcParams['axes.labelcolor'] = 'black'\n",
    "plt.rcParams['axes.labelsize'] = 10\n",
    "plt.rcParams['figure.titleweight'] = 'bold'\n",
    "plt.rcParams['axes.labelweight'] = 'normal'\n",
    "\n",
    "plt.rcParams['xtick.color'] = 'grey'\n",
    "plt.rcParams['ytick.color'] = 'grey'\n",
    "plt.rcParams['xtick.labelsize'] = 8\n",
    "plt.rcParams['ytick.labelsize'] = 8\n",
    "plt.rcParams['figure.titlesize'] = 12\n",
    "\n",
    "palette = itertools.cycle(sns.color_palette('colorblind', 25))\n",
    "\n",
    "platforms = list()\n",
    "for game in actual_games:\n",
    "    if 'platforms' in game['data'] and game['data']['platforms']:\n",
    "        platforms += ([x['name'] for x in game['data']['platforms']])\n",
    "platforms = pd.Series(platforms)\n",
    "figure = plt.figure(figsize=(720/100, 475/100), dpi=100)\n",
    "ax = platforms.value_counts()[:25].plot(kind='bar', color = [palette.next() for x in range(25)])\n",
    "shortnames = ['PC', 'Wii U', 'Mac', 'PSN', 'SNES' ,'NES', 'Game Boy', '3DS eShop', 'GameCube',\n",
    "             'PS1', 'PSN - Vita', '360 Marketplace', 'Wii Shop', 'Linux', 'PS4', 'GBA', 'PS3',\n",
    "              'Xbox', 'PS2', 'Xbox 360', 'Genesis', 'PSP', 'iPad', 'iPhone', 'N64'] \n",
    "ax.set_xticklabels(shortnames)\n",
    "\n",
    "for x in range(25):\n",
    "    ax.get_xticklabels()[x].title = shortnames\n",
    "plt.ylabel('Number of Games')\n",
    "plt.title(\"AGDQ Games That Exist on Each Platform\")\n",
    "ax.yaxis.set_ticks_position('left')\n",
    "ax.xaxis.set_ticks_position('bottom')\n",
    "ax.text(1, -0.35,'Source: Giantbomb.com & Gamesdonequick.com',\n",
    "     horizontalalignment='right',\n",
    "     verticalalignment='center',\n",
    "     transform = ax.transAxes,\n",
    "     fontsize=8)\n",
    "print \n",
    "ax.text(-.05, -0.35, 'BenjaminCongdon.me, © 2016',\n",
    "     horizontalalignment='left',\n",
    "     verticalalignment='center',\n",
    "     transform = ax.transAxes,\n",
    "     fontsize=8)\n",
    "plt.tight_layout()\n",
    "plt.savefig('./img/general_platform_counts.png', bbox_inches='tight', dpi=100)\n",
    "plt.savefig('./render/general_platform_counts.png', bbox_inches='tight', dpi=500)"
   ]
  },
  {
   "cell_type": "markdown",
   "metadata": {},
   "source": [
    "## Release Year Histogram"
   ]
  },
  {
   "cell_type": "code",
   "execution_count": null,
   "metadata": {
    "collapsed": false
   },
   "outputs": [],
   "source": [
    "\n",
    "actual_games[0]['data']\n",
    "game_frame = pd.DataFrame()\n",
    "\n",
    "game_frame['title'] = [x['title'] for x in actual_games]\n",
    "game_frame['duration'] = [str(x['duration']) for x in actual_games]\n",
    "game_frame['runner'] = [x['runner'] for x in actual_games]\n",
    "game_frame['platform'] = [x['platform'] for x in actual_games]\n",
    "game_frame['release_date'] = [x['data']['original_release_date'] if 'original_release_date' \n",
    "                           in x['data'] else None for x in actual_games]\n",
    "game_frame['release_date'] = pd.to_datetime(game_frame['release_date'])\n",
    "game_frame['duration'] = pd.to_timedelta(game_frame['duration'])\n",
    "\n",
    "print \"\\nEarliest Release\"\n",
    "print game_frame.ix[game_frame['release_date'].idxmin()]\n",
    "print \"\\nLatest Release\"\n",
    "print game_frame.ix[game_frame['release_date'].idxmax()]\n",
    "\n",
    "print \"\\nMin Duration\"\n",
    "print game_frame.ix[game_frame['duration'].idxmin()]\n",
    "print \"\\nMax Duration\"\n",
    "print game_frame.ix[game_frame['duration'].idxmax()]\n",
    "\n",
    "figure = plt.figure(figsize=(720/100, 475/100), dpi=100)\n",
    "ax = game_frame['release_date'].hist(bins=30)\n",
    "ax.yaxis.set_ticks_position('left')\n",
    "ax.xaxis.set_ticks_position('bottom')\n",
    "#plt.xlabel('Release Year')\n",
    "plt.title('AGDQ 2017 Games Played by Release Year')\n",
    "plt.ylabel('Number of Games Being Run')\n",
    "ax.text(1, -0.09,'Source: Giantbomb.com & Gamesdonequick.com',\n",
    "     horizontalalignment='right',\n",
    "     verticalalignment='center',\n",
    "     transform = ax.transAxes,\n",
    "     fontsize=8)\n",
    "ax.text(-.05, -0.09,'BenjaminCongdon.me, © 2016',\n",
    "     horizontalalignment='left',\n",
    "     verticalalignment='center',\n",
    "     transform = ax.transAxes,\n",
    "     fontsize=8)\n",
    "plt.tight_layout()\n",
    "plt.savefig(\"./img/num_games_by_year.png\", bbox_inches='tight', dpi=100)\n",
    "plt.savefig(\"./render/num_games_by_year.png\", bbox_inches='tight', dpi=350)"
   ]
  },
  {
   "cell_type": "markdown",
   "metadata": {},
   "source": [
    "## Release Year vs. Playtime"
   ]
  },
  {
   "cell_type": "code",
   "execution_count": null,
   "metadata": {
    "collapsed": false
   },
   "outputs": [],
   "source": [
    "duration_grouped = game_frame.groupby(lambda x: game_frame.ix[x]['release_date'].year)\n",
    "duration_by_year = duration_grouped.aggregate(np.sum)['duration'].astype('timedelta64[m]')\n",
    "mean_duration_by_year = duration_by_year / duration_grouped.count()['duration']\n",
    "figure = plt.figure(figsize=(720/100, 475/100), dpi=100)\n",
    "ax = mean_duration_by_year.plot(kind='bar', color = sns.color_palette('colorblind', 25)[0])\n",
    "xtl = [item.get_text()[:4] for item in ax.get_xticklabels()]\n",
    "_=ax.set_xticklabels(xtl)\n",
    "#plt.xlabel(\"Release Year\")\n",
    "plt.ylabel(\"Avg. Game Duration (minutes)\")\n",
    "ax.yaxis.set_ticks_position('left')\n",
    "ax.xaxis.set_ticks_position('bottom')\n",
    "ax.text(1, -0.16,'Source: Giantbomb.com & Gamesdonequick.com',\n",
    "     horizontalalignment='right',\n",
    "     verticalalignment='center',\n",
    "     transform = ax.transAxes,\n",
    "     fontsize=8)\n",
    "ax.text(-.05, -0.16,'BenjaminCongdon.me, © 2016',\n",
    "     horizontalalignment='left',\n",
    "     verticalalignment='center',\n",
    "     transform = ax.transAxes,\n",
    "     fontsize=8)\n",
    "\n",
    "\n",
    "plt.title(\"AGDQ 2017 Speedrun Time by Release Year\")\n",
    "plt.tight_layout()\n",
    "\n",
    "plt.savefig(\"./img/time_by_release_date.png\", bbox_inches='tight', dpi=100)\n",
    "plt.savefig(\"./render/time_by_release_date.png\", bbox_inches='tight', dpi=350)"
   ]
  },
  {
   "cell_type": "markdown",
   "metadata": {},
   "source": [
    "## Speed Run Scatter"
   ]
  },
  {
   "cell_type": "code",
   "execution_count": null,
   "metadata": {
    "collapsed": false
   },
   "outputs": [],
   "source": [
    "game_frame['minutes'] = game_frame['duration'].astype('timedelta64[m]')\n",
    "game_frame_corrected = game_frame[pd.notnull(game_frame['release_date'])]\n",
    "game_frame_corrected = game_frame_corrected.reset_index()\n",
    "import itertools\n",
    "\n",
    "platforms = game_frame_corrected['platform'].unique()\n",
    "palette = itertools.cycle(sns.color_palette('Paired', 21))\n",
    "color_dict = dict()\n",
    "for p in platforms:\n",
    "    color_dict[p] = palette.next()\n",
    "def map_platform(platform):\n",
    "    if platform in color_dict:\n",
    "        return color_dict[platform]\n",
    "    else:\n",
    "        return \"r\"\n",
    "    \n",
    "mapped_platforms = list(map_platform(x) for x in game_frame_corrected['platform'])\n",
    "\n",
    "\n",
    "markers = itertools.cycle(['v', 'o', '^', 's', '*'])\n",
    "\n",
    "fig, ax = plt.subplots(figsize=(10,8))\n",
    "\n",
    "for platform in platforms:\n",
    "    plt_series = game_frame_corrected[game_frame_corrected['platform'] == platform]\n",
    "    ax.plot_date(x=plt_series.release_date, y=plt_series.minutes,\n",
    "                  color=map_platform(platform),\n",
    "                  label=platform, marker=markers.next(), linewidth=1)\n",
    "plt.xlabel(\"Release Date\", fontsize=12)\n",
    "plt.ylabel(\"Time to Run (minutes)\", fontsize=12)\n",
    "legend = ax.legend(loc=\"upper right\", frameon = True, ncol=3)\n",
    "legend.get_frame().set_linewidth(0)\n",
    "legend.get_frame().set_facecolor(\"#F0F0F0\")\n",
    "plt.title(\"AGDQ 2017: Time to Speedrun vs Release Date & Platform\")\n",
    "ax.text(1, -0.05,'Source: Giantbomb.com & Gamesdonequick.com',\n",
    "     horizontalalignment='right',\n",
    "     verticalalignment='center',\n",
    "     transform = ax.transAxes,\n",
    "     fontsize=12)\n",
    "ax.text(-.05, -0.05,'BenjaminCongdon.me, © 2016',\n",
    "     horizontalalignment='left',\n",
    "     verticalalignment='center',\n",
    "     transform = ax.transAxes,\n",
    "     fontsize=12)\n",
    "plt.tight_layout()\n",
    "plt.savefig('./img/running_time_v_release_date.png', bbox_inches='tight', dpi=70)\n",
    "plt.savefig('./render/running_time_v_release_date.png', bbox_inches='tight', dpi=350)"
   ]
  },
  {
   "cell_type": "markdown",
   "metadata": {},
   "source": [
    "## Actual Platform Bar Chart"
   ]
  },
  {
   "cell_type": "code",
   "execution_count": null,
   "metadata": {
    "collapsed": false
   },
   "outputs": [],
   "source": [
    "counts = game_frame['platform'].value_counts()\n",
    "colors_for_graph = [map_platform(x) for x in counts.index]\n",
    "fig, ax = plt.subplots(figsize=(720/100, 475/100), dpi=100)\n",
    "ax = game_frame['platform'].value_counts().plot(kind='bar', color = colors_for_graph)\n",
    "# plt.xlabel(\"Platform\", fontsize=10)\n",
    "plt.ylabel(\"Number of Games Being Run\", fontsize=11)\n",
    "ax.yaxis.set_ticks_position('left')\n",
    "ax.xaxis.set_ticks_position('bottom')\n",
    "ax.text(1, -0.3,'Source: Gamesdonequick.com',\n",
    "     horizontalalignment='right',\n",
    "     verticalalignment='center',\n",
    "     transform = ax.transAxes,\n",
    "     fontsize=8)\n",
    "ax.text(-.05, -0.3,'BenjaminCongdon.me, © 2016',\n",
    "     horizontalalignment='left',\n",
    "     verticalalignment='center',\n",
    "     transform = ax.transAxes,\n",
    "     fontsize=8)\n",
    "plt.title(\"AGDQ 2017 Games being Speedrun on Each Platform\")\n",
    "plt.tight_layout()\n",
    "plt.savefig('./img/platforms_run.png', bbox_inches='tight', dpi=100)\n",
    "plt.savefig('./render/platforms_run.png', bbox_inches='tight', dpi=350)"
   ]
  },
  {
   "cell_type": "markdown",
   "metadata": {},
   "source": [
    "## Running Time Histogram"
   ]
  },
  {
   "cell_type": "code",
   "execution_count": null,
   "metadata": {
    "collapsed": false,
    "scrolled": true
   },
   "outputs": [],
   "source": [
    "figure = plt.figure(figsize=(720/100, 475/100), dpi=100)\n",
    "\n",
    "ax = game_frame['minutes'].hist(bins=25)\n",
    "ax.yaxis.set_ticks_position('left')\n",
    "ax.xaxis.set_ticks_position('bottom')\n",
    "plt.xlabel(\"Time to Beat (minutes)\", fontsize=11)\n",
    "plt.ylabel(\"Number of Games\", fontsize=11)\n",
    "plt.title(\"AGDQ 2017 Speedrun Times\")\n",
    "ax.text(1, -0.12,'Source: Gamesdonequick.com',\n",
    "     horizontalalignment='right',\n",
    "     verticalalignment='center',\n",
    "     transform = ax.transAxes,\n",
    "     fontsize=8)\n",
    "ax.text(-.05, -0.12,'BenjaminCongdon.me, © 2016',\n",
    "     horizontalalignment='left',\n",
    "     verticalalignment='center',\n",
    "     transform = ax.transAxes,\n",
    "     fontsize=8)\n",
    "plt.tight_layout()\n",
    "plt.savefig('./img/time_to_run_histogram.png', bb_inches='tight', dpi=100)\n",
    "plt.savefig('./render/time_to_run_histogram.png', bb_inches='tight', dpi=350)"
   ]
  },
  {
   "cell_type": "markdown",
   "metadata": {
    "collapsed": true
   },
   "source": [
    "## CSV for D3.js"
   ]
  },
  {
   "cell_type": "code",
   "execution_count": null,
   "metadata": {
    "collapsed": false
   },
   "outputs": [],
   "source": [
    "import codecs\n",
    "with codecs.open(\"games_list.csv\", \"w+\", encoding='utf8') as f:\n",
    "    game_frame.drop('duration', axis=1).to_csv(f) # 'Minutes' will be more useful"
   ]
  },
  {
   "cell_type": "markdown",
   "metadata": {},
   "source": [
    "## Pyplot Scatter"
   ]
  },
  {
   "cell_type": "code",
   "execution_count": null,
   "metadata": {
    "collapsed": false
   },
   "outputs": [],
   "source": [
    "import plotly.plotly as py\n",
    "import plotly.graph_objs as go\n",
    "\n",
    "import numpy as np\n",
    "\n",
    "N = 500\n",
    "\n",
    "trace = go.Scatter(\n",
    "    x = np.random.randn(N),\n",
    "    y = np.random.randn(N)+2,\n",
    "    name = 'Above',\n",
    "    mode = 'markers',\n",
    "    marker = dict(\n",
    "        size = 10,\n",
    "        color = 'rgba(152, 0, 0, .8)',\n",
    "        line = dict(\n",
    "            width = 2,\n",
    "            color = 'rgb(0, 0, 0)'\n",
    "        )\n",
    "    )\n",
    ")\n",
    "\n",
    "data = trace\n",
    "\n",
    "layout = dict(title = 'AGDQ Scatter',\n",
    "             )\n",
    "\n",
    "fig = dict(data=data, layout=layout)\n",
    "py.iplot(fig, filename='styled-scatter')\n"
   ]
  }
 ],
 "metadata": {
  "kernelspec": {
   "display_name": "Python 2",
   "language": "python",
   "name": "python2"
  },
  "language_info": {
   "codemirror_mode": {
    "name": "ipython",
    "version": 2
   },
   "file_extension": ".py",
   "mimetype": "text/x-python",
   "name": "python",
   "nbconvert_exporter": "python",
   "pygments_lexer": "ipython2",
   "version": "2.7.12"
  }
 },
 "nbformat": 4,
 "nbformat_minor": 0
}
